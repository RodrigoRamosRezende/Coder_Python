{
 "cells": [
  {
   "cell_type": "code",
   "execution_count": 9,
   "metadata": {},
   "outputs": [
    {
     "name": "stdout",
     "output_type": "stream",
     "text": [
      "Número de linhas com diagnosis igual a 'B': 357\n",
      "            id         diagnosis  radius_mean\n",
      "82     8611555  malignant cancer        25.22\n",
      "180     873592  malignant cancer        27.22\n",
      "212    8810703  malignant cancer        28.11\n",
      "352     899987  malignant cancer        25.73\n",
      "461  911296202  malignant cancer        27.42\n"
     ]
    }
   ],
   "source": [
    "import pandas as pd\n",
    "\n",
    "# Carregue o arquivo CSV em um DataFrame\n",
    "df = pd.read_csv(\"./cancer_data.csv\", sep=',')\n",
    "\n",
    "# Conte quantas linhas possuem diagnosis igual a 'B'\n",
    "count_B = df[df['diagnosis'] == 'B'].shape[0]\n",
    "\n",
    "# Substitua os valores da coluna 'diagnosis' de acordo com as regras\n",
    "df['diagnosis'] = df['diagnosis'].map({'B': 'benign cancer', 'M': 'malignant cancer'})\n",
    "\n",
    "# Filtre os IDs dos \"malignant cancer\" com raio maior que 25\n",
    "filtered_data = df[(df['diagnosis'] == 'malignant cancer') & (df['radius_mean'] > 25)]\n",
    "\n",
    "# Exiba o número de linhas com diagnosis igual a 'B'\n",
    "print(f\"Número de linhas com diagnosis igual a 'B': {count_B}\")\n",
    "\n",
    "# Exiba o DataFrame após a substituição e filtragem\n",
    "print(filtered_data[['id', 'diagnosis', 'radius_mean']])\n"
   ]
  }
 ],
 "metadata": {
  "kernelspec": {
   "display_name": ".venv",
   "language": "python",
   "name": "python3"
  },
  "language_info": {
   "codemirror_mode": {
    "name": "ipython",
    "version": 3
   },
   "file_extension": ".py",
   "mimetype": "text/x-python",
   "name": "python",
   "nbconvert_exporter": "python",
   "pygments_lexer": "ipython3",
   "version": "3.11.4"
  },
  "orig_nbformat": 4
 },
 "nbformat": 4,
 "nbformat_minor": 2
}
