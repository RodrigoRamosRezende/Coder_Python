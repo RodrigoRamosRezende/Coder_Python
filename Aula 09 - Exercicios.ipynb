{
 "cells": [
  {
   "cell_type": "code",
   "execution_count": 3,
   "metadata": {},
   "outputs": [],
   "source": [
    "import sqlite3\n",
    "import pandas as pd"
   ]
  },
  {
   "cell_type": "code",
   "execution_count": 4,
   "metadata": {},
   "outputs": [],
   "source": [
    "def tabelas_bd():\n",
    "    \"\"\"Retorna um DataFrame com as tabelas do banco de dados.\"\"\"\n",
    "    try:\n",
    "        # Abre a conexão com o banco de dados\n",
    "        conexao = sqlite3.connect('coderhouse.db')\n",
    "        \n",
    "        # Consulta as tabelas no banco de dados\n",
    "        consulta = \"SELECT name FROM sqlite_master WHERE type='table';\"\n",
    "        tabelas = pd.read_sql_query(consulta, conexao)\n",
    "        \n",
    "        return tabelas\n",
    "    except sqlite3.Error as e:\n",
    "        print(f\"Erro ao listar tabelas do banco de dados: {e}\")\n",
    "        return None\n",
    "    finally:\n",
    "        # Fecha a conexão com o banco de dados, independentemente do resultado\n",
    "        if conexao:\n",
    "            conexao.close()"
   ]
  },
  {
   "cell_type": "code",
   "execution_count": null,
   "metadata": {},
   "outputs": [],
   "source": [
    "tabelas_bd()"
   ]
  },
  {
   "cell_type": "code",
   "execution_count": 8,
   "metadata": {},
   "outputs": [],
   "source": [
    "def salva_bd(df, nome_tabela):\n",
    "    \"\"\"Salva um DataFrame na tabela nome_tabela.\"\"\"\n",
    "    try:\n",
    "        # Abre a conexão com o banco de dados\n",
    "        conexao = sqlite3.connect('coderhouse.db')\n",
    "        \n",
    "        # Salva o DataFrame na tabela\n",
    "        df.to_sql(nome_tabela, conexao, if_exists='replace', index=False)\n",
    "        print(f\"DataFrame salvo na tabela '{nome_tabela}' com sucesso.\")\n",
    "    except sqlite3.Error as e:\n",
    "        print(f\"Erro ao salvar DataFrame na tabela: {e}\")\n",
    "    finally:\n",
    "        # Fecha a conexão com o banco de dados, independentemente do resultado\n",
    "        if conexao:\n",
    "            conexao.close()"
   ]
  },
  {
   "cell_type": "code",
   "execution_count": 10,
   "metadata": {},
   "outputs": [],
   "source": [
    "def carrega_bd(nome_tabela):\n",
    "    \"\"\"Carrega a tabela nome_tabela em um DataFrame.\"\"\"\n",
    "    try:\n",
    "        # Abre a conexão com o banco de dados\n",
    "        conexao = sqlite3.connect('coderhouse.db')\n",
    "        \n",
    "        # Consulta os dados da tabela e carrega em um DataFrame\n",
    "        consulta = f\"SELECT * FROM {nome_tabela};\"\n",
    "        df = pd.read_sql_query(consulta, conexao)\n",
    "        \n",
    "        return df\n",
    "    except sqlite3.Error as e:\n",
    "        print(f\"Erro ao carregar tabela do banco de dados: {e}\")\n",
    "        return None\n",
    "    finally:\n",
    "        # Fecha a conexão com o banco de dados, independentemente do resultado\n",
    "        if conexao:\n",
    "            conexao.close()"
   ]
  },
  {
   "cell_type": "code",
   "execution_count": null,
   "metadata": {},
   "outputs": [],
   "source": [
    "carrega_bd('fastfood')"
   ]
  },
  {
   "cell_type": "code",
   "execution_count": null,
   "metadata": {},
   "outputs": [],
   "source": [
    "fastfood_df = pd.read_excel('fastfood.xlsx')\n",
    "fastfood_df.head(2)"
   ]
  },
  {
   "cell_type": "code",
   "execution_count": null,
   "metadata": {},
   "outputs": [],
   "source": [
    "tabelas_bd()"
   ]
  },
  {
   "cell_type": "code",
   "execution_count": null,
   "metadata": {},
   "outputs": [],
   "source": [
    "salva_bd(fastfood, \"fastfood\")"
   ]
  },
  {
   "cell_type": "code",
   "execution_count": 17,
   "metadata": {},
   "outputs": [
    {
     "data": {
      "text/html": [
       "<div>\n",
       "<style scoped>\n",
       "    .dataframe tbody tr th:only-of-type {\n",
       "        vertical-align: middle;\n",
       "    }\n",
       "\n",
       "    .dataframe tbody tr th {\n",
       "        vertical-align: top;\n",
       "    }\n",
       "\n",
       "    .dataframe thead th {\n",
       "        text-align: right;\n",
       "    }\n",
       "</style>\n",
       "<table border=\"1\" class=\"dataframe\">\n",
       "  <thead>\n",
       "    <tr style=\"text-align: right;\">\n",
       "      <th></th>\n",
       "      <th>restaurant</th>\n",
       "      <th>item</th>\n",
       "      <th>calories</th>\n",
       "      <th>cal_fat</th>\n",
       "      <th>total_fat</th>\n",
       "      <th>sat_fat</th>\n",
       "      <th>trans_fat</th>\n",
       "      <th>cholesterol</th>\n",
       "      <th>sodium</th>\n",
       "      <th>total_carb</th>\n",
       "      <th>fiber</th>\n",
       "      <th>sugar</th>\n",
       "      <th>protein</th>\n",
       "      <th>vit_a</th>\n",
       "      <th>vit_c</th>\n",
       "      <th>calcium</th>\n",
       "      <th>salad</th>\n",
       "    </tr>\n",
       "  </thead>\n",
       "  <tbody>\n",
       "    <tr>\n",
       "      <th>0</th>\n",
       "      <td>Mcdonalds</td>\n",
       "      <td>Artisan Grilled Chicken Sandwich</td>\n",
       "      <td>380</td>\n",
       "      <td>60</td>\n",
       "      <td>7</td>\n",
       "      <td>2</td>\n",
       "      <td>0</td>\n",
       "      <td>95</td>\n",
       "      <td>1110</td>\n",
       "      <td>44</td>\n",
       "      <td>3.0</td>\n",
       "      <td>11</td>\n",
       "      <td>37.0</td>\n",
       "      <td>4.0</td>\n",
       "      <td>20.0</td>\n",
       "      <td>20.0</td>\n",
       "      <td>Other</td>\n",
       "    </tr>\n",
       "    <tr>\n",
       "      <th>1</th>\n",
       "      <td>Mcdonalds</td>\n",
       "      <td>Single Bacon Smokehouse Burger</td>\n",
       "      <td>840</td>\n",
       "      <td>410</td>\n",
       "      <td>45</td>\n",
       "      <td>17</td>\n",
       "      <td>1682910000</td>\n",
       "      <td>130</td>\n",
       "      <td>1580</td>\n",
       "      <td>62</td>\n",
       "      <td>2.0</td>\n",
       "      <td>18</td>\n",
       "      <td>46.0</td>\n",
       "      <td>6.0</td>\n",
       "      <td>20.0</td>\n",
       "      <td>20.0</td>\n",
       "      <td>Other</td>\n",
       "    </tr>\n",
       "  </tbody>\n",
       "</table>\n",
       "</div>"
      ],
      "text/plain": [
       "  restaurant                              item  calories  cal_fat  total_fat  \\\n",
       "0  Mcdonalds  Artisan Grilled Chicken Sandwich       380       60          7   \n",
       "1  Mcdonalds    Single Bacon Smokehouse Burger       840      410         45   \n",
       "\n",
       "  sat_fat   trans_fat  cholesterol  sodium  total_carb  fiber  sugar  protein  \\\n",
       "0       2           0           95    1110          44    3.0     11     37.0   \n",
       "1      17  1682910000          130    1580          62    2.0     18     46.0   \n",
       "\n",
       "   vit_a  vit_c  calcium  salad  \n",
       "0    4.0   20.0     20.0  Other  \n",
       "1    6.0   20.0     20.0  Other  "
      ]
     },
     "execution_count": 17,
     "metadata": {},
     "output_type": "execute_result"
    }
   ],
   "source": [
    "df_new = carrega_bd(\"fastfood\")\n",
    "df_new.head(2)"
   ]
  }
 ],
 "metadata": {
  "kernelspec": {
   "display_name": ".venv",
   "language": "python",
   "name": "python3"
  },
  "language_info": {
   "codemirror_mode": {
    "name": "ipython",
    "version": 3
   },
   "file_extension": ".py",
   "mimetype": "text/x-python",
   "name": "python",
   "nbconvert_exporter": "python",
   "pygments_lexer": "ipython3",
   "version": "3.11.4"
  },
  "orig_nbformat": 4
 },
 "nbformat": 4,
 "nbformat_minor": 2
}
