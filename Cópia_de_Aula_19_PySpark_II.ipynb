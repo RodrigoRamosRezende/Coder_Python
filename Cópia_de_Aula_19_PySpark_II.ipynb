{
  "cells": [
    {
      "cell_type": "markdown",
      "metadata": {
        "id": "DxuMwfT3tEeQ"
      },
      "source": [
        "#  PySpark II\n"
      ]
    },
    {
      "cell_type": "markdown",
      "metadata": {
        "id": "5ICQl76jtEeX"
      },
      "source": [
        "## Sessão"
      ]
    },
    {
      "cell_type": "code",
      "source": [
        "!pip install pyspark"
      ],
      "metadata": {
        "colab": {
          "base_uri": "https://localhost:8080/"
        },
        "id": "vYpizBrStKLS",
        "outputId": "beb794de-304c-4505-83ba-3746dae5d155"
      },
      "execution_count": 2,
      "outputs": [
        {
          "output_type": "stream",
          "name": "stdout",
          "text": [
            "Collecting pyspark\n",
            "  Downloading pyspark-3.5.0.tar.gz (316.9 MB)\n",
            "\u001b[2K     \u001b[90m━━━━━━━━━━━━━━━━━━━━━━━━━━━━━━━━━━━━━━━━\u001b[0m \u001b[32m316.9/316.9 MB\u001b[0m \u001b[31m3.7 MB/s\u001b[0m eta \u001b[36m0:00:00\u001b[0m\n",
            "\u001b[?25h  Preparing metadata (setup.py) ... \u001b[?25l\u001b[?25hdone\n",
            "Requirement already satisfied: py4j==0.10.9.7 in /usr/local/lib/python3.10/dist-packages (from pyspark) (0.10.9.7)\n",
            "Building wheels for collected packages: pyspark\n",
            "  Building wheel for pyspark (setup.py) ... \u001b[?25l\u001b[?25hdone\n",
            "  Created wheel for pyspark: filename=pyspark-3.5.0-py2.py3-none-any.whl size=317425344 sha256=92204e1aba74b4c880e591cd4a16259414534fb25d10de96ff6a924570ee71d0\n",
            "  Stored in directory: /root/.cache/pip/wheels/41/4e/10/c2cf2467f71c678cfc8a6b9ac9241e5e44a01940da8fbb17fc\n",
            "Successfully built pyspark\n",
            "Installing collected packages: pyspark\n",
            "Successfully installed pyspark-3.5.0\n"
          ]
        }
      ]
    },
    {
      "cell_type": "code",
      "execution_count": 3,
      "metadata": {
        "id": "FHDQcnY4tEeY"
      },
      "outputs": [],
      "source": [
        "from pyspark.sql import SparkSession\n",
        "import pyspark as ps\n",
        "spark = (SparkSession\n",
        "            .builder\n",
        "            .appName(\"Python Spark SQL basic example\")\n",
        "            .config(\"spark.some.config.option\", \"some-value\")\n",
        "            .getOrCreate())"
      ]
    },
    {
      "cell_type": "code",
      "execution_count": 4,
      "metadata": {
        "colab": {
          "base_uri": "https://localhost:8080/"
        },
        "id": "eQH8kpo9tEea",
        "outputId": "9c788703-39b9-4b19-8dda-97de692e5179"
      },
      "outputs": [
        {
          "output_type": "execute_result",
          "data": {
            "text/plain": [
              "<pyspark.conf.SparkConf at 0x7a5b4b74b580>"
            ]
          },
          "metadata": {},
          "execution_count": 4
        }
      ],
      "source": [
        "conf = ps.SparkConf().setMaster(\"yarn-client\").setAppName(\"sparK-mer\")\n",
        "conf.set(\"spark.executor.heartbeatInterval\",\"3600s\")"
      ]
    },
    {
      "cell_type": "markdown",
      "metadata": {
        "id": "FGflZNggtEec"
      },
      "source": [
        "## Read csv"
      ]
    },
    {
      "cell_type": "code",
      "execution_count": 6,
      "metadata": {
        "colab": {
          "base_uri": "https://localhost:8080/"
        },
        "id": "7lb4WKICtEec",
        "outputId": "1f4d8025-c4a5-4750-dbc7-be18b2548f05"
      },
      "outputs": [
        {
          "output_type": "execute_result",
          "data": {
            "text/plain": [
              "DataFrame[id: string, diagnosis: string, radius_mean: string, texture_mean: string, perimeter_mean: string, area_mean: string, smoothness_mean: string, compactness_mean: string, concavity_mean: string, concave points_mean: string, symmetry_mean: string, fractal_dimension_mean: string, radius_se: string, texture_se: string, perimeter_se: string, area_se: string, smoothness_se: string, compactness_se: string, concavity_se: string, concave points_se: string, symmetry_se: string, fractal_dimension_se: string, radius_worst: string, texture_worst: string, perimeter_worst: string, area_worst: string, smoothness_worst: string, compactness_worst: string, concavity_worst: string, concave points_worst: string, symmetry_worst: string, fractal_dimension_worst: string, _c32: string]"
            ]
          },
          "metadata": {},
          "execution_count": 6
        }
      ],
      "source": [
        "df_spark = (spark.read.format(\"csv\")\n",
        "      .option(\"header\",\"true\")\n",
        "      .load(\"Cancer_Data.csv\"))\n",
        "df_spark"
      ]
    },
    {
      "cell_type": "code",
      "execution_count": 7,
      "metadata": {
        "colab": {
          "base_uri": "https://localhost:8080/"
        },
        "id": "hyaVgdcFtEed",
        "outputId": "e16df010-1a5e-4c45-ded7-eb8e7297ab71"
      },
      "outputs": [
        {
          "output_type": "stream",
          "name": "stdout",
          "text": [
            "+--------+---------+-----------+------------+--------------+---------+---------------+----------------+--------------+-------------------+-------------+----------------------+---------+----------+------------+-------+-------------+--------------+------------+-----------------+-----------+--------------------+------------+-------------+---------------+----------+----------------+-----------------+---------------+--------------------+--------------+-----------------------+----+\n",
            "|      id|diagnosis|radius_mean|texture_mean|perimeter_mean|area_mean|smoothness_mean|compactness_mean|concavity_mean|concave points_mean|symmetry_mean|fractal_dimension_mean|radius_se|texture_se|perimeter_se|area_se|smoothness_se|compactness_se|concavity_se|concave points_se|symmetry_se|fractal_dimension_se|radius_worst|texture_worst|perimeter_worst|area_worst|smoothness_worst|compactness_worst|concavity_worst|concave points_worst|symmetry_worst|fractal_dimension_worst|_c32|\n",
            "+--------+---------+-----------+------------+--------------+---------+---------------+----------------+--------------+-------------------+-------------+----------------------+---------+----------+------------+-------+-------------+--------------+------------+-----------------+-----------+--------------------+------------+-------------+---------------+----------+----------------+-----------------+---------------+--------------------+--------------+-----------------------+----+\n",
            "|  842302|        M|      17.99|       10.38|         122.8|     1001|         0.1184|          0.2776|        0.3001|             0.1471|       0.2419|               0.07871|    1.095|    0.9053|       8.589|  153.4|     0.006399|       0.04904|     0.05373|          0.01587|    0.03003|            0.006193|       25.38|        17.33|          184.6|      2019|          0.1622|           0.6656|         0.7119|              0.2654|        0.4601|                 0.1189|NULL|\n",
            "|  842517|        M|      20.57|       17.77|         132.9|     1326|        0.08474|         0.07864|        0.0869|            0.07017|       0.1812|               0.05667|   0.5435|    0.7339|       3.398|  74.08|     0.005225|       0.01308|      0.0186|           0.0134|    0.01389|            0.003532|       24.99|        23.41|          158.8|      1956|          0.1238|           0.1866|         0.2416|               0.186|         0.275|                0.08902|NULL|\n",
            "|84300903|        M|      19.69|       21.25|           130|     1203|         0.1096|          0.1599|        0.1974|             0.1279|       0.2069|               0.05999|   0.7456|    0.7869|       4.585|  94.03|      0.00615|       0.04006|     0.03832|          0.02058|     0.0225|            0.004571|       23.57|        25.53|          152.5|      1709|          0.1444|           0.4245|         0.4504|               0.243|        0.3613|                0.08758|NULL|\n",
            "|84348301|        M|      11.42|       20.38|         77.58|    386.1|         0.1425|          0.2839|        0.2414|             0.1052|       0.2597|               0.09744|   0.4956|     1.156|       3.445|  27.23|      0.00911|       0.07458|     0.05661|          0.01867|    0.05963|            0.009208|       14.91|         26.5|          98.87|     567.7|          0.2098|           0.8663|         0.6869|              0.2575|        0.6638|                  0.173|NULL|\n",
            "|84358402|        M|      20.29|       14.34|         135.1|     1297|         0.1003|          0.1328|         0.198|             0.1043|       0.1809|               0.05883|   0.7572|    0.7813|       5.438|  94.44|      0.01149|       0.02461|     0.05688|          0.01885|    0.01756|            0.005115|       22.54|        16.67|          152.2|      1575|          0.1374|            0.205|            0.4|              0.1625|        0.2364|                0.07678|NULL|\n",
            "+--------+---------+-----------+------------+--------------+---------+---------------+----------------+--------------+-------------------+-------------+----------------------+---------+----------+------------+-------+-------------+--------------+------------+-----------------+-----------+--------------------+------------+-------------+---------------+----------+----------------+-----------------+---------------+--------------------+--------------+-----------------------+----+\n",
            "only showing top 5 rows\n",
            "\n"
          ]
        }
      ],
      "source": [
        "df_spark.show(5)"
      ]
    },
    {
      "cell_type": "markdown",
      "metadata": {
        "id": "x1faTAWmtEee"
      },
      "source": [
        "## Parquet"
      ]
    },
    {
      "cell_type": "code",
      "source": [
        "df_spark.count()"
      ],
      "metadata": {
        "colab": {
          "base_uri": "https://localhost:8080/"
        },
        "id": "51MkKIoquZBP",
        "outputId": "84c2a95f-cf4d-44a3-c27c-00d775261199"
      },
      "execution_count": 9,
      "outputs": [
        {
          "output_type": "execute_result",
          "data": {
            "text/plain": [
              "569"
            ]
          },
          "metadata": {},
          "execution_count": 9
        }
      ]
    },
    {
      "cell_type": "code",
      "execution_count": 10,
      "metadata": {
        "id": "h2g7obPvtEef"
      },
      "outputs": [],
      "source": [
        "df_spark.write.parquet('cancer_parquet.parquet',\n",
        "                       mode='overwrite',\n",
        "                       partitionBy='diagnosis')"
      ]
    },
    {
      "cell_type": "code",
      "execution_count": 12,
      "metadata": {
        "colab": {
          "base_uri": "https://localhost:8080/"
        },
        "id": "PDOTGSl-tEef",
        "outputId": "c5e46f94-262a-4232-bebc-82471e019688"
      },
      "outputs": [
        {
          "output_type": "execute_result",
          "data": {
            "text/plain": [
              "569"
            ]
          },
          "metadata": {},
          "execution_count": 12
        }
      ],
      "source": [
        "df = spark.read.parquet('cancer_parquet.parquet')\n",
        "\n",
        "df.count()"
      ]
    },
    {
      "cell_type": "markdown",
      "metadata": {
        "id": "np3NrArGtEeg"
      },
      "source": [
        "## Operações"
      ]
    },
    {
      "cell_type": "code",
      "execution_count": 14,
      "metadata": {
        "id": "QSdfvWFutEeg"
      },
      "outputs": [],
      "source": [
        "import pyspark.sql.functions as F\n",
        "from pyspark.sql.functions import col, lit, when"
      ]
    },
    {
      "cell_type": "code",
      "execution_count": 15,
      "metadata": {
        "colab": {
          "base_uri": "https://localhost:8080/"
        },
        "id": "AHofMNvZtEeh",
        "outputId": "3eaea2b5-5311-475c-f52f-467c6d1ab091"
      },
      "outputs": [
        {
          "output_type": "stream",
          "name": "stdout",
          "text": [
            "+------+---------+-----------+------------+--------------+---------+---------------+----------------+--------------+-------------------+-------------+----------------------+---------+----------+------------+-------+-------------+--------------+------------+-----------------+-----------+--------------------+------------+-------------+---------------+----------+----------------+-----------------+---------------+--------------------+--------------+-----------------------+----+\n",
            "|    id|diagnosis|radius_mean|texture_mean|perimeter_mean|area_mean|smoothness_mean|compactness_mean|concavity_mean|concave points_mean|symmetry_mean|fractal_dimension_mean|radius_se|texture_se|perimeter_se|area_se|smoothness_se|compactness_se|concavity_se|concave points_se|symmetry_se|fractal_dimension_se|radius_worst|texture_worst|perimeter_worst|area_worst|smoothness_worst|compactness_worst|concavity_worst|concave points_worst|symmetry_worst|fractal_dimension_worst|_c32|\n",
            "+------+---------+-----------+------------+--------------+---------+---------------+----------------+--------------+-------------------+-------------+----------------------+---------+----------+------------+-------+-------------+--------------+------------+-----------------+-----------+--------------------+------------+-------------+---------------+----------+----------------+-----------------+---------------+--------------------+--------------+-----------------------+----+\n",
            "|842302|        M|      17.99|       10.38|         122.8|     1001|         0.1184|          0.2776|        0.3001|             0.1471|       0.2419|               0.07871|    1.095|    0.9053|       8.589|  153.4|     0.006399|       0.04904|     0.05373|          0.01587|    0.03003|            0.006193|       25.38|        17.33|          184.6|      2019|          0.1622|           0.6656|         0.7119|              0.2654|        0.4601|                 0.1189|NULL|\n",
            "|842517|        M|      20.57|       17.77|         132.9|     1326|        0.08474|         0.07864|        0.0869|            0.07017|       0.1812|               0.05667|   0.5435|    0.7339|       3.398|  74.08|     0.005225|       0.01308|      0.0186|           0.0134|    0.01389|            0.003532|       24.99|        23.41|          158.8|      1956|          0.1238|           0.1866|         0.2416|               0.186|         0.275|                0.08902|NULL|\n",
            "+------+---------+-----------+------------+--------------+---------+---------------+----------------+--------------+-------------------+-------------+----------------------+---------+----------+------------+-------+-------------+--------------+------------+-----------------+-----------+--------------------+------------+-------------+---------------+----------+----------------+-----------------+---------------+--------------------+--------------+-----------------------+----+\n",
            "only showing top 2 rows\n",
            "\n"
          ]
        }
      ],
      "source": [
        "df_spark.show(2)"
      ]
    },
    {
      "cell_type": "markdown",
      "metadata": {
        "id": "3YlXHWRStEeh"
      },
      "source": [
        "#### Agrupamento"
      ]
    },
    {
      "cell_type": "code",
      "execution_count": 16,
      "metadata": {
        "colab": {
          "base_uri": "https://localhost:8080/"
        },
        "id": "bz8sULXvtEeh",
        "outputId": "de611f1c-7dc1-41ef-e9fa-d7fd83214334"
      },
      "outputs": [
        {
          "output_type": "stream",
          "name": "stdout",
          "text": [
            "+---------+-----+\n",
            "|diagnosis|count|\n",
            "+---------+-----+\n",
            "|        B|  357|\n",
            "|        M|  212|\n",
            "+---------+-----+\n",
            "\n"
          ]
        }
      ],
      "source": [
        "df_agg = (df_spark\n",
        "          .groupBy('diagnosis')\n",
        "          .count())\n",
        "\n",
        "df_agg.show()"
      ]
    },
    {
      "cell_type": "code",
      "execution_count": 17,
      "metadata": {
        "colab": {
          "base_uri": "https://localhost:8080/"
        },
        "id": "ygePQgpctEei",
        "outputId": "af676a31-4527-418c-9ca5-669e56d0acfb"
      },
      "outputs": [
        {
          "output_type": "stream",
          "name": "stdout",
          "text": [
            "+---------+---+---------------+-----------------+---------------+\n",
            "|diagnosis|  n|min_radius_mean|  avg_radius_mean|max_radius_mean|\n",
            "+---------+---+---------------+-----------------+---------------+\n",
            "|        B|357|          10.03|12.14652380952381|          9.904|\n",
            "|        M|212|          10.95|17.46283018867925|          28.11|\n",
            "+---------+---+---------------+-----------------+---------------+\n",
            "\n"
          ]
        }
      ],
      "source": [
        "df_agg = (df_spark\n",
        "          .groupBy('diagnosis')\n",
        "          .agg(F.count('radius_mean').alias('n'),\n",
        "               F.min('radius_mean').alias('min_radius_mean'),\n",
        "               F.mean('radius_mean').alias('avg_radius_mean'),\n",
        "               F.max('radius_mean').alias('max_radius_mean')))\n",
        "\n",
        "df_agg.show()"
      ]
    },
    {
      "cell_type": "code",
      "execution_count": null,
      "metadata": {
        "id": "wg9Fh5WxtEei",
        "outputId": "c057d226-15a1-4d9a-b476-a2034f028b24"
      },
      "outputs": [
        {
          "name": "stdout",
          "output_type": "stream",
          "text": [
            "+------+----+---+\n",
            "|bigger|   B|  M|\n",
            "+------+----+---+\n",
            "|  true|null| 92|\n",
            "| false| 357|120|\n",
            "+------+----+---+\n",
            "\n"
          ]
        }
      ],
      "source": [
        "df_agg = (df_spark\n",
        "          .withColumn('bigger',col('area_mean')>1000)\n",
        "          .groupBy('bigger')\n",
        "          .pivot('diagnosis')\n",
        "          .count())\n",
        "\n",
        "df_agg.show()"
      ]
    },
    {
      "cell_type": "markdown",
      "metadata": {
        "id": "yf83ho0mtEej"
      },
      "source": [
        " #### Ordenação"
      ]
    },
    {
      "cell_type": "code",
      "execution_count": null,
      "metadata": {
        "id": "H85XCU0GtEej",
        "outputId": "86b95248-9897-4aea-9b8d-9798e529c2d6"
      },
      "outputs": [
        {
          "name": "stdout",
          "output_type": "stream",
          "text": [
            "+------+---------+-----------+------------+--------------+---------+---------------+----------------+--------------+-------------------+-------------+----------------------+---------+----------+------------+-------+-------------+--------------+------------+-----------------+-----------+--------------------+------------+-------------+---------------+----------+----------------+-----------------+---------------+--------------------+--------------+-----------------------+----+\n",
            "|    id|diagnosis|radius_mean|texture_mean|perimeter_mean|area_mean|smoothness_mean|compactness_mean|concavity_mean|concave points_mean|symmetry_mean|fractal_dimension_mean|radius_se|texture_se|perimeter_se|area_se|smoothness_se|compactness_se|concavity_se|concave points_se|symmetry_se|fractal_dimension_se|radius_worst|texture_worst|perimeter_worst|area_worst|smoothness_worst|compactness_worst|concavity_worst|concave points_worst|symmetry_worst|fractal_dimension_worst|_c32|\n",
            "+------+---------+-----------+------------+--------------+---------+---------------+----------------+--------------+-------------------+-------------+----------------------+---------+----------+------------+-------+-------------+--------------+------------+-----------------+-----------+--------------------+------------+-------------+---------------+----------+----------------+-----------------+---------------+--------------------+--------------+-----------------------+----+\n",
            "|842302|        M|      17.99|       10.38|         122.8|     1001|         0.1184|          0.2776|        0.3001|             0.1471|       0.2419|               0.07871|    1.095|    0.9053|       8.589|  153.4|     0.006399|       0.04904|     0.05373|          0.01587|    0.03003|            0.006193|       25.38|        17.33|          184.6|      2019|          0.1622|           0.6656|         0.7119|              0.2654|        0.4601|                 0.1189|null|\n",
            "|842517|        M|      20.57|       17.77|         132.9|     1326|        0.08474|         0.07864|        0.0869|            0.07017|       0.1812|               0.05667|   0.5435|    0.7339|       3.398|  74.08|     0.005225|       0.01308|      0.0186|           0.0134|    0.01389|            0.003532|       24.99|        23.41|          158.8|      1956|          0.1238|           0.1866|         0.2416|               0.186|         0.275|                0.08902|null|\n",
            "+------+---------+-----------+------------+--------------+---------+---------------+----------------+--------------+-------------------+-------------+----------------------+---------+----------+------------+-------+-------------+--------------+------------+-----------------+-----------+--------------------+------------+-------------+---------------+----------+----------------+-----------------+---------------+--------------------+--------------+-----------------------+----+\n",
            "only showing top 2 rows\n",
            "\n"
          ]
        }
      ],
      "source": [
        "df_spark.show(2)"
      ]
    },
    {
      "cell_type": "code",
      "execution_count": 22,
      "metadata": {
        "colab": {
          "base_uri": "https://localhost:8080/"
        },
        "id": "tdjEBzuHtEej",
        "outputId": "233e2993-531d-4266-f30f-ae612deaafe2"
      },
      "outputs": [
        {
          "output_type": "stream",
          "name": "stdout",
          "text": [
            "+------+---------+-----------+------------+--------------+---------+---------------+----------------+--------------+-------------------+-------------+----------------------+---------+----------+------------+-------+-------------+--------------+------------+-----------------+-----------+--------------------+------------+-------------+---------------+----------+----------------+-----------------+---------------+--------------------+--------------+-----------------------+----+\n",
            "|    id|diagnosis|radius_mean|texture_mean|perimeter_mean|area_mean|smoothness_mean|compactness_mean|concavity_mean|concave points_mean|symmetry_mean|fractal_dimension_mean|radius_se|texture_se|perimeter_se|area_se|smoothness_se|compactness_se|concavity_se|concave points_se|symmetry_se|fractal_dimension_se|radius_worst|texture_worst|perimeter_worst|area_worst|smoothness_worst|compactness_worst|concavity_worst|concave points_worst|symmetry_worst|fractal_dimension_worst|_c32|\n",
            "+------+---------+-----------+------------+--------------+---------+---------------+----------------+--------------+-------------------+-------------+----------------------+---------+----------+------------+-------+-------------+--------------+------------+-----------------+-----------+--------------------+------------+-------------+---------------+----------+----------------+-----------------+---------------+--------------------+--------------+-----------------------+----+\n",
            "|872608|        B|      9.904|       18.06|          64.6|    302.4|        0.09699|          0.1294|        0.1307|            0.03716|       0.1669|               0.08116|   0.4311|     2.261|       3.132|  27.48|      0.01286|       0.08808|      0.1197|           0.0246|     0.0388|             0.01792|       11.26|        24.39|          73.07|     390.2|          0.1301|            0.295|         0.3486|              0.0991|        0.2614|                 0.1162|NULL|\n",
            "|862980|        B|      9.876|        19.4|         63.95|    298.3|         0.1005|         0.09697|       0.06154|            0.03029|       0.1945|               0.06322|   0.1803|     1.222|       1.528|  11.77|     0.009058|       0.02196|     0.03029|          0.01112|    0.01609|             0.00357|       10.76|        26.83|          72.22|     361.2|          0.1559|           0.2302|         0.2644|             0.09749|        0.2622|                 0.0849|NULL|\n",
            "|879804|        B|      9.876|       17.27|         62.92|    295.4|         0.1089|         0.07232|       0.01756|            0.01952|       0.1934|               0.06285|   0.2137|     1.342|       1.517|  12.33|     0.009719|       0.01249|    0.007975|         0.007527|     0.0221|            0.002472|       10.42|        23.22|          67.08|     331.6|          0.1415|           0.1247|        0.06213|             0.05588|        0.2989|                 0.0738|NULL|\n",
            "+------+---------+-----------+------------+--------------+---------+---------------+----------------+--------------+-------------------+-------------+----------------------+---------+----------+------------+-------+-------------+--------------+------------+-----------------+-----------+--------------------+------------+-------------+---------------+----------+----------------+-----------------+---------------+--------------------+--------------+-----------------------+----+\n",
            "only showing top 3 rows\n",
            "\n"
          ]
        }
      ],
      "source": [
        "# df_sort = (df_spark.sort('radius_mean'))\n",
        "df_sort = (df_spark.orderBy('radius_mean', ascending=False))\n",
        "df_sort.show(3)"
      ]
    },
    {
      "cell_type": "code",
      "execution_count": 23,
      "metadata": {
        "colab": {
          "base_uri": "https://localhost:8080/"
        },
        "id": "HA6MnP55tEek",
        "outputId": "66695e1d-1c2a-4c96-c814-8a0b40191a5c"
      },
      "outputs": [
        {
          "output_type": "stream",
          "name": "stdout",
          "text": [
            "+------+---------+-----------+------------+--------------+---------+---------------+----------------+--------------+-------------------+-------------+----------------------+---------+----------+------------+-------+-------------+--------------+------------+-----------------+-----------+--------------------+------------+-------------+---------------+----------+----------------+-----------------+---------------+--------------------+--------------+-----------------------+----+\n",
            "|    id|diagnosis|radius_mean|texture_mean|perimeter_mean|area_mean|smoothness_mean|compactness_mean|concavity_mean|concave points_mean|symmetry_mean|fractal_dimension_mean|radius_se|texture_se|perimeter_se|area_se|smoothness_se|compactness_se|concavity_se|concave points_se|symmetry_se|fractal_dimension_se|radius_worst|texture_worst|perimeter_worst|area_worst|smoothness_worst|compactness_worst|concavity_worst|concave points_worst|symmetry_worst|fractal_dimension_worst|_c32|\n",
            "+------+---------+-----------+------------+--------------+---------+---------------+----------------+--------------+-------------------+-------------+----------------------+---------+----------+------------+-------+-------------+--------------+------------+-----------------+-----------+--------------------+------------+-------------+---------------+----------+----------------+-----------------+---------------+--------------------+--------------+-----------------------+----+\n",
            "|872608|        B|      9.904|       18.06|          64.6|    302.4|        0.09699|          0.1294|        0.1307|            0.03716|       0.1669|               0.08116|   0.4311|     2.261|       3.132|  27.48|      0.01286|       0.08808|      0.1197|           0.0246|     0.0388|             0.01792|       11.26|        24.39|          73.07|     390.2|          0.1301|            0.295|         0.3486|              0.0991|        0.2614|                 0.1162|NULL|\n",
            "|862980|        B|      9.876|        19.4|         63.95|    298.3|         0.1005|         0.09697|       0.06154|            0.03029|       0.1945|               0.06322|   0.1803|     1.222|       1.528|  11.77|     0.009058|       0.02196|     0.03029|          0.01112|    0.01609|             0.00357|       10.76|        26.83|          72.22|     361.2|          0.1559|           0.2302|         0.2644|             0.09749|        0.2622|                 0.0849|NULL|\n",
            "|879804|        B|      9.876|       17.27|         62.92|    295.4|         0.1089|         0.07232|       0.01756|            0.01952|       0.1934|               0.06285|   0.2137|     1.342|       1.517|  12.33|     0.009719|       0.01249|    0.007975|         0.007527|     0.0221|            0.002472|       10.42|        23.22|          67.08|     331.6|          0.1415|           0.1247|        0.06213|             0.05588|        0.2989|                 0.0738|NULL|\n",
            "+------+---------+-----------+------------+--------------+---------+---------------+----------------+--------------+-------------------+-------------+----------------------+---------+----------+------------+-------+-------------+--------------+------------+-----------------+-----------+--------------------+------------+-------------+---------------+----------+----------------+-----------------+---------------+--------------------+--------------+-----------------------+----+\n",
            "only showing top 3 rows\n",
            "\n"
          ]
        }
      ],
      "source": [
        "df_sort = (df_spark.orderBy(F.desc('radius_mean')))\n",
        "df_sort.show(3)"
      ]
    },
    {
      "cell_type": "code",
      "execution_count": null,
      "metadata": {
        "id": "hr9aWfzftEek",
        "outputId": "0ca1dc73-1171-4314-aed8-0b457b4b4150"
      },
      "outputs": [
        {
          "name": "stdout",
          "output_type": "stream",
          "text": [
            "+------+---------+-----------+------------+--------------+---------+---------------+----------------+--------------+-------------------+-------------+----------------------+---------+----------+------------+-------+-------------+--------------+------------+-----------------+-----------+--------------------+------------+-------------+---------------+----------+----------------+-----------------+---------------+--------------------+--------------+-----------------------+----+\n",
            "|    id|diagnosis|radius_mean|texture_mean|perimeter_mean|area_mean|smoothness_mean|compactness_mean|concavity_mean|concave points_mean|symmetry_mean|fractal_dimension_mean|radius_se|texture_se|perimeter_se|area_se|smoothness_se|compactness_se|concavity_se|concave points_se|symmetry_se|fractal_dimension_se|radius_worst|texture_worst|perimeter_worst|area_worst|smoothness_worst|compactness_worst|concavity_worst|concave points_worst|symmetry_worst|fractal_dimension_worst|_c32|\n",
            "+------+---------+-----------+------------+--------------+---------+---------------+----------------+--------------+-------------------+-------------+----------------------+---------+----------+------------+-------+-------------+--------------+------------+-----------------+-----------+--------------------+------------+-------------+---------------+----------+----------------+-----------------+---------------+--------------------+--------------+-----------------------+----+\n",
            "|872608|        B|      9.904|       18.06|          64.6|    302.4|        0.09699|          0.1294|        0.1307|            0.03716|       0.1669|               0.08116|   0.4311|     2.261|       3.132|  27.48|      0.01286|       0.08808|      0.1197|           0.0246|     0.0388|             0.01792|       11.26|        24.39|          73.07|     390.2|          0.1301|            0.295|         0.3486|              0.0991|        0.2614|                 0.1162|null|\n",
            "|862980|        B|      9.876|        19.4|         63.95|    298.3|         0.1005|         0.09697|       0.06154|            0.03029|       0.1945|               0.06322|   0.1803|     1.222|       1.528|  11.77|     0.009058|       0.02196|     0.03029|          0.01112|    0.01609|             0.00357|       10.76|        26.83|          72.22|     361.2|          0.1559|           0.2302|         0.2644|             0.09749|        0.2622|                 0.0849|null|\n",
            "|879804|        B|      9.876|       17.27|         62.92|    295.4|         0.1089|         0.07232|       0.01756|            0.01952|       0.1934|               0.06285|   0.2137|     1.342|       1.517|  12.33|     0.009719|       0.01249|    0.007975|         0.007527|     0.0221|            0.002472|       10.42|        23.22|          67.08|     331.6|          0.1415|           0.1247|        0.06213|             0.05588|        0.2989|                 0.0738|null|\n",
            "+------+---------+-----------+------------+--------------+---------+---------------+----------------+--------------+-------------------+-------------+----------------------+---------+----------+------------+-------+-------------+--------------+------------+-----------------+-----------+--------------------+------------+-------------+---------------+----------+----------------+-----------------+---------------+--------------------+--------------+-----------------------+----+\n",
            "only showing top 3 rows\n",
            "\n"
          ]
        }
      ],
      "source": [
        "df_sort = (df_spark.orderBy('diagnosis',F.desc('radius_mean')))\n",
        "df_sort.show(3)"
      ]
    },
    {
      "cell_type": "markdown",
      "metadata": {
        "id": "u4NVffVZtEek"
      },
      "source": [
        "### Join"
      ]
    },
    {
      "cell_type": "code",
      "execution_count": 24,
      "metadata": {
        "id": "tQRk22tvtEel"
      },
      "outputs": [],
      "source": [
        "df1 = df_spark.select('id','diagnosis').limit(100)\n",
        "df2 = df_spark.select('id','radius_mean').limit(50)"
      ]
    },
    {
      "cell_type": "code",
      "execution_count": 25,
      "metadata": {
        "colab": {
          "base_uri": "https://localhost:8080/"
        },
        "id": "4yeQlOpQtEel",
        "outputId": "1bae4303-39ae-4b77-ad4e-7846503d5fc3"
      },
      "outputs": [
        {
          "output_type": "stream",
          "name": "stdout",
          "text": [
            "100\n",
            "+------+---------+\n",
            "|    id|diagnosis|\n",
            "+------+---------+\n",
            "|842302|        M|\n",
            "|842517|        M|\n",
            "+------+---------+\n",
            "only showing top 2 rows\n",
            "\n"
          ]
        }
      ],
      "source": [
        "print(df1.count())\n",
        "df1.show(2)"
      ]
    },
    {
      "cell_type": "code",
      "execution_count": 26,
      "metadata": {
        "colab": {
          "base_uri": "https://localhost:8080/"
        },
        "id": "HPEfRvaOtEem",
        "outputId": "7f8e1100-19c6-4c8a-af22-2ae2535a2e00"
      },
      "outputs": [
        {
          "output_type": "stream",
          "name": "stdout",
          "text": [
            "50\n",
            "+------+-----------+\n",
            "|    id|radius_mean|\n",
            "+------+-----------+\n",
            "|842302|      17.99|\n",
            "|842517|      20.57|\n",
            "+------+-----------+\n",
            "only showing top 2 rows\n",
            "\n"
          ]
        }
      ],
      "source": [
        "print(df2.count())\n",
        "df2.show(2)"
      ]
    },
    {
      "cell_type": "code",
      "execution_count": 28,
      "metadata": {
        "colab": {
          "base_uri": "https://localhost:8080/"
        },
        "id": "cOYVjfF7tEem",
        "outputId": "278173e4-bff5-4795-c081-37a6bcfe41b4"
      },
      "outputs": [
        {
          "output_type": "stream",
          "name": "stdout",
          "text": [
            "50\n",
            "+--------+---------+-----------+\n",
            "|      id|diagnosis|radius_mean|\n",
            "+--------+---------+-----------+\n",
            "|  842302|        M|      17.99|\n",
            "|  842517|        M|      20.57|\n",
            "|84300903|        M|      19.69|\n",
            "+--------+---------+-----------+\n",
            "only showing top 3 rows\n",
            "\n"
          ]
        }
      ],
      "source": [
        "df_join = df1.join(df2,'id','inner')\n",
        "\n",
        "print(df_join.count())\n",
        "df_join.show(3)"
      ]
    },
    {
      "cell_type": "code",
      "execution_count": 32,
      "metadata": {
        "colab": {
          "base_uri": "https://localhost:8080/"
        },
        "id": "MMUclxsBtEem",
        "outputId": "629d550d-5b76-4fc3-fd44-463093f81cfb"
      },
      "outputs": [
        {
          "output_type": "stream",
          "name": "stdout",
          "text": [
            "100\n",
            "+------+---------+-----------+\n",
            "|    id|diagnosis|radius_mean|\n",
            "+------+---------+-----------+\n",
            "|857373|        B|       NULL|\n",
            "|857438|        M|       NULL|\n",
            "|857374|        B|       NULL|\n",
            "+------+---------+-----------+\n",
            "only showing top 3 rows\n",
            "\n"
          ]
        }
      ],
      "source": [
        "df_join = df1.join(df2,'id','outer')\n",
        "\n",
        "print(df_join.count())\n",
        "df_join.orderBy('radius_mean', ascending=True).show(3)"
      ]
    },
    {
      "cell_type": "markdown",
      "metadata": {
        "id": "bsHwUQZutEen"
      },
      "source": [
        "### Cache"
      ]
    },
    {
      "cell_type": "code",
      "execution_count": 35,
      "metadata": {
        "id": "LdZ4ml1ItEen"
      },
      "outputs": [],
      "source": [
        "# df_agg = df_spark.orderBy('id')\n",
        "for i in range(100):\n",
        "    df_spark.count()"
      ]
    },
    {
      "cell_type": "code",
      "execution_count": 36,
      "metadata": {
        "id": "lca3-bzntEen"
      },
      "outputs": [],
      "source": [
        "df_spark.cache()\n",
        "for i in range(100):\n",
        "    df_spark.count()"
      ]
    },
    {
      "cell_type": "code",
      "execution_count": 38,
      "metadata": {
        "colab": {
          "base_uri": "https://localhost:8080/"
        },
        "id": "15u1tSartEen",
        "outputId": "aa58988d-98cb-4ee5-b6d4-cee8a97192a8"
      },
      "outputs": [
        {
          "output_type": "execute_result",
          "data": {
            "text/plain": [
              "DataFrame[id: string, diagnosis: string, radius_mean: string, texture_mean: string, perimeter_mean: string, area_mean: string, smoothness_mean: string, compactness_mean: string, concavity_mean: string, concave points_mean: string, symmetry_mean: string, fractal_dimension_mean: string, radius_se: string, texture_se: string, perimeter_se: string, area_se: string, smoothness_se: string, compactness_se: string, concavity_se: string, concave points_se: string, symmetry_se: string, fractal_dimension_se: string, radius_worst: string, texture_worst: string, perimeter_worst: string, area_worst: string, smoothness_worst: string, compactness_worst: string, concavity_worst: string, concave points_worst: string, symmetry_worst: string, fractal_dimension_worst: string, _c32: string]"
            ]
          },
          "metadata": {},
          "execution_count": 38
        }
      ],
      "source": [
        "df_spark.unpersist()"
      ]
    },
    {
      "cell_type": "markdown",
      "metadata": {
        "id": "gXO44H3JtEeo"
      },
      "source": [
        "### Particoes"
      ]
    },
    {
      "cell_type": "code",
      "execution_count": 39,
      "metadata": {
        "colab": {
          "base_uri": "https://localhost:8080/"
        },
        "id": "MSQvde9ItEeo",
        "outputId": "c5ca842a-9a34-419f-8ec8-04004282b2e1"
      },
      "outputs": [
        {
          "output_type": "execute_result",
          "data": {
            "text/plain": [
              "10"
            ]
          },
          "metadata": {},
          "execution_count": 39
        }
      ],
      "source": [
        "df_part = df_spark.repartition(10)\n",
        "df_part.rdd.getNumPartitions()"
      ]
    },
    {
      "cell_type": "code",
      "execution_count": null,
      "metadata": {
        "id": "znYFRpRNtEeo",
        "outputId": "c8f125c2-c5b6-477d-82dc-5b4745847246"
      },
      "outputs": [
        {
          "data": {
            "text/plain": [
              "1"
            ]
          },
          "execution_count": 44,
          "metadata": {},
          "output_type": "execute_result"
        }
      ],
      "source": [
        "df_spark.rdd.getNumPartitions()"
      ]
    },
    {
      "cell_type": "code",
      "execution_count": null,
      "metadata": {
        "id": "qONaob_btEeo"
      },
      "outputs": [],
      "source": []
    }
  ],
  "metadata": {
    "kernelspec": {
      "display_name": "Python 3",
      "language": "python",
      "name": "python3"
    },
    "language_info": {
      "codemirror_mode": {
        "name": "ipython",
        "version": 3
      },
      "file_extension": ".py",
      "mimetype": "text/x-python",
      "name": "python",
      "nbconvert_exporter": "python",
      "pygments_lexer": "ipython3",
      "version": "3.10.8"
    },
    "orig_nbformat": 4,
    "colab": {
      "provenance": []
    }
  },
  "nbformat": 4,
  "nbformat_minor": 0
}