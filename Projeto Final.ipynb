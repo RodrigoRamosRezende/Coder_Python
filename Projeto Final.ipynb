{
 "cells": [
  {
   "cell_type": "code",
   "execution_count": 52,
   "metadata": {},
   "outputs": [],
   "source": [
    "import pandas as pd\n",
    "import requests\n",
    "from plyer import notification"
   ]
  },
  {
   "cell_type": "code",
   "execution_count": 53,
   "metadata": {},
   "outputs": [],
   "source": [
    "# URL base da API\n",
    "base_url = \"https://brasilapi.com.br/api/\""
   ]
  },
  {
   "cell_type": "code",
   "execution_count": 54,
   "metadata": {},
   "outputs": [],
   "source": [
    "# Função para exibir um alerta de erro usando Plyer\n",
    "def alerta(mensagem):\n",
    "    notification.notify(\n",
    "        title= \"Erro na API BrasilAPI\",\n",
    "        message= mensagem,\n",
    "        app_name= \"Projeto Final\",\n",
    "    )"
   ]
  },
  {
   "cell_type": "code",
   "execution_count": 55,
   "metadata": {},
   "outputs": [],
   "source": [
    "# Função para buscar dados da API\n",
    "def buscar_dados(endpoint):\n",
    "    url = f\"{base_url}{endpoint}\"\n",
    "    response = requests.get(url)\n",
    "    \n",
    "    if response.status_code == 200:\n",
    "        return response.json()\n",
    "    else:\n",
    "        mensagem = f\"Erro ao buscar dados da API. Código de status: {response.status_code}\"\n",
    "        alerta(mensagem)  # Chama a função de alerta\n",
    "        return None"
   ]
  },
  {
   "cell_type": "code",
   "execution_count": 58,
   "metadata": {},
   "outputs": [
    {
     "name": "stdout",
     "output_type": "stream",
     "text": [
      "Tabela 1: Lista de Taxas\n",
      "    Nome  Valor\n",
      "0  Selic  12.75\n",
      "1    CDI  12.65\n",
      "2   IPCA   4.61\n",
      "\n",
      "Tabela 2: Lista de Pixs\n",
      "       ISPB                                             Nome  \\\n",
      "0  00000000                               BCO DO BRASIL S.A.   \n",
      "1  00000208                       BRB - BCO DE BRASILIA S.A.   \n",
      "2  00068987                                CC ARACREDI LTDA.   \n",
      "3  00075847  CC UNICRED CENTRO-SUL LTDA - UNICRED CENTRO-SUL   \n",
      "4  00106180         CCC DOS EST DE MT, MS E MUN DE CACOAL/RO   \n",
      "\n",
      "                                     Nome Reduzido Modalidade  Tipo  \n",
      "0                               BCO DO BRASIL S.A.       PDCT  DRCT  \n",
      "1                       BRB - BCO DE BRASILIA S.A.       PDCT  DRCT  \n",
      "2                                CC ARACREDI LTDA.       PDCT  IDRT  \n",
      "3  CC UNICRED CENTRO-SUL LTDA - UNICRED CENTRO-SUL       PDCT  IDRT  \n",
      "4         CCC DOS EST DE MT, MS E MUN DE CACOAL/RO       PDCT  IDRT  \n"
     ]
    }
   ],
   "source": [
    "# Tabela 1: Lista de Bancos do Brasil\n",
    "taxas = buscar_dados(\"taxas/v1\")\n",
    "if taxas:\n",
    "    \n",
    "    # Criar um DataFrame com os atributos\n",
    "    nome = [taxa['nome'] for taxa in taxas]\n",
    "    valor = [taxa['valor'] for taxa in taxas]\n",
    "\n",
    "    df_taxas = pd.DataFrame({\n",
    "        \"Nome\": nome,\n",
    "        \"Valor\": valor,\n",
    "    })\n",
    "\n",
    "    print(\"Tabela 1: Lista de Taxas\")\n",
    "    print(df_taxas.head(5))  # Exibe as 5 primeiras linhas do DataFrame\n",
    "\n",
    "# Tabela 2: Lista de PIX do Brasil\n",
    "ceps = buscar_dados(\"pix/v1/participants\")\n",
    "if ceps:\n",
    "\n",
    "    # Criar um DataFrame com os atributos\n",
    "    ispb = [cep['ispb'] for cep in ceps]\n",
    "    nome = [cep['nome_reduzido'] for cep in ceps]\n",
    "    nomeReduzido = [cep['nome_reduzido'] for cep in ceps]\n",
    "    modalidade_participacao = [cep['modalidade_participacao'] for cep in ceps]\n",
    "    tipo_participacao = [cep['tipo_participacao'] for cep in ceps]\n",
    "\n",
    "    df_ceps = pd.DataFrame({\n",
    "        \"ISPB\": ispb,\n",
    "        \"Nome\": nome,\n",
    "        \"Nome Reduzido\": nomeReduzido,\n",
    "        \"Modalidade\": modalidade_participacao,\n",
    "        \"Tipo\": tipo_participacao\n",
    "    })\n",
    "    \n",
    "    print(\"\\nTabela 2: Lista de Pixs\")\n",
    "    print(df_ceps.head(5)) # Exibe as 5 primeiras linhas do DataFrame\n",
    "\n",
    "# Tabela 3: Lista de Corretoras do Brasil (erro criado de forma proposital para chamar o alerta)\n",
    "corretoras = buscar_dados(\"vm/corretoras/v1\")\n",
    "if corretoras:\n",
    "\n",
    "    df_corretoras = pd.DataFrame(corretoras)\n",
    "    print(\"\\nTabela 2: Lista de Corretoras do Brasil\")\n",
    "    print(df_corretoras)"
   ]
  },
  {
   "cell_type": "code",
   "execution_count": null,
   "metadata": {},
   "outputs": [],
   "source": []
  }
 ],
 "metadata": {
  "kernelspec": {
   "display_name": ".venv",
   "language": "python",
   "name": "python3"
  },
  "language_info": {
   "codemirror_mode": {
    "name": "ipython",
    "version": 3
   },
   "file_extension": ".py",
   "mimetype": "text/x-python",
   "name": "python",
   "nbconvert_exporter": "python",
   "pygments_lexer": "ipython3",
   "version": "3.11.4"
  },
  "orig_nbformat": 4
 },
 "nbformat": 4,
 "nbformat_minor": 2
}
