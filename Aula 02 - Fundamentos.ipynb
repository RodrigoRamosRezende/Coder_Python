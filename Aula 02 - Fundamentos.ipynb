{
 "cells": [
  {
   "cell_type": "code",
   "execution_count": 2,
   "metadata": {},
   "outputs": [
    {
     "name": "stdout",
     "output_type": "stream",
     "text": [
      "Olá nome você tem 45 anos\n"
     ]
    }
   ],
   "source": [
    "#Input para inserir Nome e idade\n",
    "\n",
    "idade = int(input(\"Sua idade:\"))\n",
    "nome = str(input(\"Seu Nome:\"))\n",
    "\n",
    "print(\"Olá\", nome,\"você tem\",idade,\"anos\")"
   ]
  },
  {
   "cell_type": "code",
   "execution_count": 5,
   "metadata": {},
   "outputs": [
    {
     "data": {
      "text/plain": [
       "-55"
      ]
     },
     "execution_count": 5,
     "metadata": {},
     "output_type": "execute_result"
    }
   ],
   "source": [
    "idade = int(input(\"Sua idade\"))\n",
    "tempo_restante = int(input(\"Tempo restante:\"))\n",
    "\n",
    "expectativa = idade - tempo_restante\n",
    "expectativa"
   ]
  },
  {
   "cell_type": "code",
   "execution_count": 11,
   "metadata": {},
   "outputs": [
    {
     "name": "stdout",
     "output_type": "stream",
     "text": [
      "15 -5 50 1.6666666666666667\n"
     ]
    }
   ],
   "source": [
    "# Operações\n",
    "\n",
    "x = 5\n",
    "y = 10\n",
    "z = 3\n",
    "\n",
    "soma = x + y\n",
    "sub = x - y\n",
    "mul = x*y\n",
    "div = x/z\n",
    "print(soma,sub,mul,div)\n"
   ]
  },
  {
   "cell_type": "code",
   "execution_count": 12,
   "metadata": {},
   "outputs": [
    {
     "name": "stdout",
     "output_type": "stream",
     "text": [
      "1000 1 3\n"
     ]
    }
   ],
   "source": [
    "#Operações Extras\n",
    "\n",
    "x = 10\n",
    "y = 5\n",
    "z = 3\n",
    "\n",
    "potencia = x**z\n",
    "modulo = x%z\n",
    "div_int = x//z\n",
    "\n",
    "print(potencia,modulo,div_int)"
   ]
  },
  {
   "cell_type": "code",
   "execution_count": 13,
   "metadata": {},
   "outputs": [
    {
     "name": "stdout",
     "output_type": "stream",
     "text": [
      "False\n",
      "True\n",
      "True\n",
      "True\n",
      "False\n"
     ]
    }
   ],
   "source": [
    "#Operações Extras\n",
    "\n",
    "x = 10\n",
    "y = 5\n",
    "z = 3\n",
    "\n",
    "print(x > y*2)\n",
    "print(x >= y*2)\n",
    "print(x != y)\n",
    "print(x > y)\n",
    "print(x < y)\n",
    "\n"
   ]
  },
  {
   "cell_type": "code",
   "execution_count": 14,
   "metadata": {},
   "outputs": [
    {
     "name": "stdout",
     "output_type": "stream",
     "text": [
      "True\n",
      "True\n",
      "False\n",
      "True\n",
      "False\n"
     ]
    }
   ],
   "source": [
    "#Operações Lógicas\n",
    "\n",
    "print(0 < x and x < 100)\n",
    "print ((10 == x) or (10 == y))\n",
    "print (not True)\n",
    "print (False and True or True)\n",
    "print (False and (True or True))"
   ]
  },
  {
   "cell_type": "code",
   "execution_count": 16,
   "metadata": {},
   "outputs": [
    {
     "data": {
      "text/plain": [
       "[1, 2, 3, 4, 5]"
      ]
     },
     "execution_count": 16,
     "metadata": {},
     "output_type": "execute_result"
    }
   ],
   "source": [
    "# Propriedades Lista\n",
    "\n",
    "minha_lista = [1, 2.2, \"três\", 4.0]\n",
    "minha_lista[2]\n",
    "\n",
    "minha_lista2 = [5, 6, [7, 8]]\n",
    "minha_lista2\n",
    "\n",
    "minha_lista2.append('nove')\n",
    "minha_lista2\n",
    "\n",
    "lista_completa = minha_lista + minha_lista2\n",
    "lista_completa\n",
    "\n",
    "lista_ordernar = [5,2,1,3,4]\n",
    "lista_ordernar.sort()\n",
    "lista_ordernar"
   ]
  },
  {
   "cell_type": "code",
   "execution_count": 18,
   "metadata": {},
   "outputs": [
    {
     "data": {
      "text/plain": [
       "{'nome': 'Maria Silva', 'idade': 49, 'altura': 1.65}"
      ]
     },
     "execution_count": 18,
     "metadata": {},
     "output_type": "execute_result"
    }
   ],
   "source": [
    "#Dicionário\n",
    "\n",
    "cliente = {\"nome\":\"Maria Silva\",\n",
    "           \"idade\":49}\n",
    "cliente[\"altura\"] = 1.65\n",
    "\n",
    "cliente\n"
   ]
  },
  {
   "cell_type": "code",
   "execution_count": 19,
   "metadata": {},
   "outputs": [],
   "source": [
    "#Tuplas\n",
    "\n",
    "minha_tupla = (1, \"dois\", 3.0)\n",
    "minha_tupla = [1, \"dois\", 3.0]"
   ]
  },
  {
   "cell_type": "code",
   "execution_count": 20,
   "metadata": {},
   "outputs": [
    {
     "name": "stdout",
     "output_type": "stream",
     "text": [
      "{1, 2, 3, 4, 5}\n",
      "[1, 2, 3, 4, 5]\n",
      "(1, 2, 3, 4, 5)\n"
     ]
    }
   ],
   "source": [
    "#Set\n",
    "\n",
    "meu_set = {1,2,2,3,4,5,2}\n",
    "\n",
    "agora_lista = list(meu_set)\n",
    "agora_tupla = tuple(meu_set)\n",
    "\n",
    "print(meu_set)\n",
    "print(agora_lista)\n",
    "print(agora_tupla)"
   ]
  },
  {
   "cell_type": "code",
   "execution_count": 25,
   "metadata": {},
   "outputs": [
    {
     "name": "stdout",
     "output_type": "stream",
     "text": [
      "1\n",
      "50000\n",
      "50000\n",
      "300\n"
     ]
    }
   ],
   "source": [
    "#Indexação\n",
    "\n",
    "minha_lista = [1,20,300,4000,50000]\n",
    "print(minha_lista[0])\n",
    "print(minha_lista[4])\n",
    "print(minha_lista[-1])\n",
    "print(minha_lista[-3])"
   ]
  },
  {
   "cell_type": "code",
   "execution_count": 27,
   "metadata": {},
   "outputs": [
    {
     "data": {
      "text/plain": [
       "'Hello World'"
      ]
     },
     "execution_count": 27,
     "metadata": {},
     "output_type": "execute_result"
    }
   ],
   "source": [
    "#Operações com String - 1°\n",
    "\n",
    "string1 = 'Hello'\n",
    "string2 = 'World'\n",
    "\n",
    "concatenada = string1 + \" \" + string2\n",
    "concatenada"
   ]
  },
  {
   "cell_type": "code",
   "execution_count": 30,
   "metadata": {},
   "outputs": [
    {
     "name": "stdout",
     "output_type": "stream",
     "text": [
      "Olá, meu nome é João e tenho 25 anos\n",
      "Olá, meu nome é João e tenho 25 anos\n",
      "Olá,\n",
      " meu nome é João\n",
      " e tenho 25 anos\n"
     ]
    }
   ],
   "source": [
    "#Operações com String - 2°\n",
    "\n",
    "nome = input (\"Seu nome: \")\n",
    "idade = input (\"Sua idade: \")\n",
    "frase = \"Olá, meu nome é {} e tenho {} anos\".format(nome, idade)\n",
    "print(frase)\n",
    "\n",
    "print(f\"Olá, meu nome é {nome} e tenho {idade} anos\")\n",
    "\n",
    "print(frase[:4])\n",
    "print(frase[4:20])\n",
    "print(frase[20:])"
   ]
  },
  {
   "cell_type": "code",
   "execution_count": 31,
   "metadata": {},
   "outputs": [
    {
     "data": {
      "text/plain": [
       "'Oi, meu nome é Fernando e tenho 45 anos'"
      ]
     },
     "execution_count": 31,
     "metadata": {},
     "output_type": "execute_result"
    }
   ],
   "source": [
    "#Operações com String - 3° Replace\n",
    "\n",
    "frase = \"Oi, meu nome é Pedro e tenho 45 anos\"\n",
    "nova_frase = frase.replace(\"Pedro\", \"Fernando\")\n",
    "nova_frase\n",
    "\n",
    "frase = '      Hello World'\n",
    "nova_frase = frase.strip()\n",
    "print(nova_frase)"
   ]
  },
  {
   "cell_type": "code",
   "execution_count": 34,
   "metadata": {},
   "outputs": [
    {
     "data": {
      "text/plain": [
       "['Oi,', 'meu', 'nome', 'é', 'Pedro', 'e', 'tenho', '45', 'anos']"
      ]
     },
     "execution_count": 34,
     "metadata": {},
     "output_type": "execute_result"
    }
   ],
   "source": [
    "#Operações com String - 4° Split\n",
    "\n",
    "frase = \"Oi, meu nome é Pedro e tenho 45 anos\"\n",
    "frase.split(',')\n",
    "frase.split()\n"
   ]
  },
  {
   "cell_type": "code",
   "execution_count": 35,
   "metadata": {},
   "outputs": [
    {
     "name": "stdout",
     "output_type": "stream",
     "text": [
      "HELLO WORLD\n",
      "hello world\n"
     ]
    }
   ],
   "source": [
    "#Operações com String - 5° Upper/Lower\n",
    "\n",
    "texto = \"Hello World\"\n",
    "texto_maiusculo = texto.upper()\n",
    "print(texto_maiusculo) \n",
    "\n",
    "texto_minusculo = texto.lower()\n",
    "print(texto_minusculo) "
   ]
  },
  {
   "cell_type": "code",
   "execution_count": 53,
   "metadata": {},
   "outputs": [
    {
     "name": "stdout",
     "output_type": "stream",
     "text": [
      "Seu novo saldo é 925.6.\n"
     ]
    }
   ],
   "source": [
    "#Atividade 1\n",
    "\n",
    "saldo = 950.60\n",
    "saque = float( input(\"Quanto deseja sacar?\"))\n",
    "\n",
    "resultado = saldo - saque\n",
    "\n",
    "print(f\"Seu novo saldo é {resultado}.\")\n"
   ]
  },
  {
   "cell_type": "code",
   "execution_count": 54,
   "metadata": {},
   "outputs": [
    {
     "name": "stdout",
     "output_type": "stream",
     "text": [
      "Essa fruta já está na lista!\n",
      "Frutas atualizadas: ['maçã', 'banana', 'morango', 'uva', 'laranja']\n"
     ]
    }
   ],
   "source": [
    "#Atividade 2\n",
    "\n",
    "frutas = [\"maçã\", \"banana\", \"morango\", \"uva\", \"laranja\"]\n",
    "\n",
    "nova_fruta = input(\"Digite o nome de uma fruta: \")\n",
    "\n",
    "if nova_fruta not in frutas:\n",
    "    frutas.append(nova_fruta)\n",
    "    print(\"Fruta adicionada com sucesso!\")\n",
    "\n",
    "else:\n",
    "    print(\"Essa fruta já está na lista!\")\n",
    "\n",
    "    print(\"Frutas atualizadas:\", frutas)"
   ]
  },
  {
   "cell_type": "code",
   "execution_count": 55,
   "metadata": {},
   "outputs": [
    {
     "name": "stdout",
     "output_type": "stream",
     "text": [
      "Frase original: Paracetamol\n",
      "Frase substituída: P*r*c*t*m*l\n"
     ]
    }
   ],
   "source": [
    "#Atividade 3\n",
    "\n",
    "frase = str(input(\"Digite uma frase: \"))\n",
    "vogais = \"aeiouAEIOU\"\n",
    "frase_substituida = \"\"\n",
    "\n",
    "for letra in frase:\n",
    "    if letra in vogais:\n",
    "        frase_substituida += \"*\"\n",
    "    else:\n",
    "        frase_substituida += letra\n",
    "\n",
    "print(\"Frase original:\", frase)\n",
    "print(\"Frase substituída:\", frase_substituida)"
   ]
  }
 ],
 "metadata": {
  "kernelspec": {
   "display_name": ".venv",
   "language": "python",
   "name": "python3"
  },
  "language_info": {
   "codemirror_mode": {
    "name": "ipython",
    "version": 3
   },
   "file_extension": ".py",
   "mimetype": "text/x-python",
   "name": "python",
   "nbconvert_exporter": "python",
   "pygments_lexer": "ipython3",
   "version": "3.11.4"
  },
  "orig_nbformat": 4
 },
 "nbformat": 4,
 "nbformat_minor": 2
}
