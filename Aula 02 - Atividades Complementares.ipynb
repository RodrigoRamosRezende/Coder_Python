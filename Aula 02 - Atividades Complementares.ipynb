{
 "cells": [
  {
   "cell_type": "code",
   "execution_count": 1,
   "metadata": {},
   "outputs": [
    {
     "name": "stdout",
     "output_type": "stream",
     "text": [
      "Calculadora de IMC\n",
      "O seu IMC é: 25.640242971826257\n"
     ]
    }
   ],
   "source": [
    "#Resolução - Atividade 1\n",
    "\n",
    "print(\"Calculadora de IMC\")\n",
    "\n",
    "peso = float(input(\"Digite o seu peso em kg: \"))\n",
    "altura = float(input(\"Digite a sua altura em metros: \"))\n",
    "\n",
    "imc = peso / (altura ** 2)\n",
    "\n",
    "print(\"O seu IMC é:\", imc)"
   ]
  },
  {
   "cell_type": "code",
   "execution_count": 3,
   "metadata": {},
   "outputs": [
    {
     "name": "stdout",
     "output_type": "stream",
     "text": [
      "[2, 2, 1, 2, 5]\n"
     ]
    }
   ],
   "source": [
    "#Resolução - Atividade 2\n",
    "\n",
    "lista = []\n",
    "\n",
    "for i in range(5):\n",
    "    numero = int(input(\"Digite um número inteiro: \"))\n",
    "    lista.append(numero)\n",
    "\n",
    "print(lista)"
   ]
  },
  {
   "cell_type": "code",
   "execution_count": 4,
   "metadata": {},
   "outputs": [
    {
     "name": "stdout",
     "output_type": "stream",
     "text": [
      "Lista de nomes:\n",
      "['q', ' t', ' e', ' r', ' t']\n"
     ]
    }
   ],
   "source": [
    "#Resolução - Atividade 3\n",
    "\n",
    "nomes = input(\"Digite uma lista de nomes separados por vírgula: \")  # Solicita ao usuário a lista de nomes\n",
    "lista_nomes = nomes.split(\",\")  # Divide a string de entrada em uma lista de strings\n",
    "\n",
    "print(\"Lista de nomes:\")\n",
    "print(lista_nomes)  # Imprime a lista de nomes"
   ]
  }
 ],
 "metadata": {
  "kernelspec": {
   "display_name": ".venv",
   "language": "python",
   "name": "python3"
  },
  "language_info": {
   "codemirror_mode": {
    "name": "ipython",
    "version": 3
   },
   "file_extension": ".py",
   "mimetype": "text/x-python",
   "name": "python",
   "nbconvert_exporter": "python",
   "pygments_lexer": "ipython3",
   "version": "3.11.4"
  },
  "orig_nbformat": 4
 },
 "nbformat": 4,
 "nbformat_minor": 2
}
