{
 "cells": [
  {
   "cell_type": "code",
   "execution_count": 5,
   "metadata": {},
   "outputs": [
    {
     "name": "stdout",
     "output_type": "stream",
     "text": [
      "Valores do array: [  4  66 100  67  60   2   2  87  43  85]\n",
      "Tipo de dado do array: int32\n"
     ]
    }
   ],
   "source": [
    "#Exercicio 1\n",
    "\n",
    "import numpy as np\n",
    "import pandas as pd\n",
    "\n",
    "\n",
    "# Crie um array NumPy com 10 elementos inteiros aleatórios entre 0 e 100\n",
    "array_random = np.random.randint(0, 101, 10)\n",
    "\n",
    "# Exiba os valores do array\n",
    "print(\"Valores do array:\", array_random)\n",
    "\n",
    "# Exiba o tipo de dado do array\n",
    "print(\"Tipo de dado do array:\", array_random.dtype)"
   ]
  },
  {
   "cell_type": "code",
   "execution_count": 8,
   "metadata": {},
   "outputs": [
    {
     "name": "stdout",
     "output_type": "stream",
     "text": [
      "Matriz:\n",
      "[[0.38905089 0.72755138 0.11609651 0.75195959 0.67412877]\n",
      " [0.91294081 0.02126383 0.77088308 0.54669001 0.93767794]\n",
      " [0.31605564 0.51787141 0.67677804 0.39807374 0.06312936]\n",
      " [0.52535759 0.76976234 0.27553794 0.5727538  0.98480722]\n",
      " [0.84128054 0.46149467 0.96861081 0.10372589 0.69091275]]\n",
      "Valor mínimo: 0.021263834898820444\n",
      "Valor máximo: 0.9848072246902334\n",
      "Média: 0.5605757826212217\n"
     ]
    }
   ],
   "source": [
    "#Exercicio 2\n",
    "\n",
    "# Crie uma matriz 5x5 com valores aleatórios entre 0 e 1\n",
    "matriz = np.random.rand(5, 5)\n",
    "\n",
    "# Encontre o valor mínimo, máximo e a média da matriz\n",
    "valor_minimo = matriz.min()\n",
    "valor_maximo = matriz.max()\n",
    "media = matriz.mean()\n",
    "\n",
    "# Exiba os resultados\n",
    "print(\"Matriz:\")\n",
    "print(matriz)\n",
    "print(\"Valor mínimo:\", valor_minimo)\n",
    "print(\"Valor máximo:\", valor_maximo)\n",
    "print(\"Média:\", media)"
   ]
  },
  {
   "cell_type": "code",
   "execution_count": 7,
   "metadata": {},
   "outputs": [
    {
     "name": "stdout",
     "output_type": "stream",
     "text": [
      "Array Original: [0.40801989 0.99241288 0.94363257 0.03713263 0.2579736  0.73323754\n",
      " 0.26997038 0.75183316 0.99383595 0.00103873]\n",
      "Array Novo: [4 9 9 0 2 7 2 7 9 0]\n"
     ]
    }
   ],
   "source": [
    "#Exercicio 3\n",
    "\n",
    "# Crie um array com 10 elementos aleatórios no intervalo [0, 1]\n",
    "array_original = np.random.rand(10)\n",
    "\n",
    "# Crie um novo array com os elementos multiplicados por 10 e convertidos para inteiros\n",
    "array_novo = (array_original * 10).astype(int)\n",
    "\n",
    "# Exiba os dois arrays\n",
    "print(\"Array Original:\", array_original)\n",
    "print(\"Array Novo:\", array_novo)"
   ]
  },
  {
   "cell_type": "code",
   "execution_count": 9,
   "metadata": {},
   "outputs": [
    {
     "name": "stdout",
     "output_type": "stream",
     "text": [
      "[[ 8  9  1]\n",
      " [-1 -1 -1]\n",
      " [ 2  0  6]]\n"
     ]
    }
   ],
   "source": [
    "#Exercicio 4\n",
    "\n",
    "# Crie um array de duas dimensões (3x3) com valores aleatórios inteiros entre 0 e 9\n",
    "array = np.random.randint(0, 10, (3, 3))\n",
    "\n",
    "# Substitua todos os elementos da segunda linha por -1\n",
    "array[1, :] = -1\n",
    "\n",
    "# Exiba o array resultante\n",
    "print(array)\n"
   ]
  },
  {
   "cell_type": "code",
   "execution_count": 14,
   "metadata": {},
   "outputs": [
    {
     "name": "stdout",
     "output_type": "stream",
     "text": [
      "    Fruta  Preço  Quantidade\n",
      "0  Banana    7.9          12\n",
      "1    Maçã   10.2           3\n",
      "2    Pera   11.8           4\n"
     ]
    }
   ],
   "source": [
    "#Exercicio 5\n",
    "\n",
    "# Criar um dicionário com os dados\n",
    "data = {\n",
    "    'Fruta': ['Banana', 'Maçã', 'Pera'],\n",
    "    'Preço': [7.90, 10.20, 11.80],\n",
    "    'Quantidade': [12, 3, 4]\n",
    "}\n",
    "\n",
    "# Criar o DataFrame\n",
    "df = pd.DataFrame(data)\n",
    "\n",
    "# Exibir o DataFrame\n",
    "print(df)"
   ]
  }
 ],
 "metadata": {
  "kernelspec": {
   "display_name": ".venv",
   "language": "python",
   "name": "python3"
  },
  "language_info": {
   "codemirror_mode": {
    "name": "ipython",
    "version": 3
   },
   "file_extension": ".py",
   "mimetype": "text/x-python",
   "name": "python",
   "nbconvert_exporter": "python",
   "pygments_lexer": "ipython3",
   "version": "3.11.4"
  },
  "orig_nbformat": 4
 },
 "nbformat": 4,
 "nbformat_minor": 2
}
