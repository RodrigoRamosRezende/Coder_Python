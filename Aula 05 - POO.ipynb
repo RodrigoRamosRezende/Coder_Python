{
 "cells": [
  {
   "cell_type": "code",
   "execution_count": 8,
   "metadata": {},
   "outputs": [
    {
     "name": "stdout",
     "output_type": "stream",
     "text": [
      "A area do retangulo é 40 e o perimetro é 26\n"
     ]
    }
   ],
   "source": [
    "from Geometria import Retangulo\n",
    "\n",
    "retangulo1 = Retangulo(5, 8) \n",
    "\n",
    "print (f'A area do retangulo é {retangulo1.area()} e o perimetro é {retangulo1.perimetro()}')\n"
   ]
  },
  {
   "cell_type": "code",
   "execution_count": 25,
   "metadata": {},
   "outputs": [],
   "source": [
    "class Cachorro:\n",
    "    def __init__(self, nome, idade, raca):\n",
    "        self.nome = nome\n",
    "        self.idade = idade\n",
    "        self.raca = raca\n",
    "        \n",
    "    def latir(self, modo):\n",
    "        if modo == 'bravo':\n",
    "            print(f'Au, meu nome é {self.nome}!')\n",
    "        elif modo == 'manco':\n",
    "            print(f'auuuuu!')\n",
    "        else:\n",
    "            print(f'AUUUUUUAUU!')"
   ]
  },
  {
   "cell_type": "code",
   "execution_count": 1,
   "metadata": {},
   "outputs": [
    {
     "ename": "NameError",
     "evalue": "name 'Cachorro' is not defined",
     "output_type": "error",
     "traceback": [
      "\u001b[1;31m---------------------------------------------------------------------------\u001b[0m",
      "\u001b[1;31mNameError\u001b[0m                                 Traceback (most recent call last)",
      "Cell \u001b[1;32mIn[1], line 1\u001b[0m\n\u001b[1;32m----> 1\u001b[0m Bidu \u001b[39m=\u001b[39m Cachorro(\u001b[39m'\u001b[39m\u001b[39mBidu\u001b[39m\u001b[39m'\u001b[39m, \u001b[39m2\u001b[39m,\u001b[39m'\u001b[39m\u001b[39mPastor Alemão\u001b[39m\u001b[39m'\u001b[39m)\n",
      "\u001b[1;31mNameError\u001b[0m: name 'Cachorro' is not defined"
     ]
    }
   ],
   "source": [
    "Bidu = Cachorro('Bidu', 2,'Pastor Alemão')"
   ]
  },
  {
   "cell_type": "code",
   "execution_count": 29,
   "metadata": {},
   "outputs": [
    {
     "name": "stdout",
     "output_type": "stream",
     "text": [
      "auuuuu!\n"
     ]
    }
   ],
   "source": [
    "Bidu.latir('manco')"
   ]
  },
  {
   "cell_type": "code",
   "execution_count": 35,
   "metadata": {},
   "outputs": [
    {
     "name": "stdout",
     "output_type": "stream",
     "text": [
      "200\n"
     ]
    }
   ],
   "source": [
    "\n",
    "\n",
    "import requests\n",
    "response = requests.get('https://www.google.com')\n",
    "print(response.status_code)"
   ]
  },
  {
   "cell_type": "code",
   "execution_count": 7,
   "metadata": {},
   "outputs": [
    {
     "name": "stdout",
     "output_type": "stream",
     "text": [
      "A area do retangulo é None e o perimetro é None\n"
     ]
    }
   ],
   "source": [
    "class Retangulo:\n",
    "    def __init__(self, base, altura):\n",
    "        self.base = base\n",
    "        self.altura = altura\n",
    "    \n",
    "    def area(self):\n",
    "        return self.base * self.altura\n",
    "        \n",
    "    def perimetro(self):\n",
    "        return 2 * (self.base + self.altura)\n",
    "    \n",
    "retangulo1 = Retangulo(5, 8) \n",
    "\n",
    "print (f'A area do retangulo é {retangulo1.area()} e o perimetro é {retangulo1.perimetro()}')\n",
    "\n",
    "    "
   ]
  },
  {
   "cell_type": "code",
   "execution_count": null,
   "metadata": {},
   "outputs": [],
   "source": [
    "class conta:\n",
    "    def __init__(self, saldo, titular):\n",
    "        self.saldo = saldo\n",
    "        self.titular = titular\n",
    "    \n",
    "    def depositar(self):\n",
    "        return self.saldo +\n",
    "    \n",
    "    def sacar(self):\n",
    "        return self.saldo - \n",
    "    \n",
    "Cliente = conta(200)\n",
    "\n"
   ]
  }
 ],
 "metadata": {
  "kernelspec": {
   "display_name": ".venv",
   "language": "python",
   "name": "python3"
  },
  "language_info": {
   "codemirror_mode": {
    "name": "ipython",
    "version": 3
   },
   "file_extension": ".py",
   "mimetype": "text/x-python",
   "name": "python",
   "nbconvert_exporter": "python",
   "pygments_lexer": "ipython3",
   "version": "3.11.4"
  },
  "orig_nbformat": 4
 },
 "nbformat": 4,
 "nbformat_minor": 2
}
