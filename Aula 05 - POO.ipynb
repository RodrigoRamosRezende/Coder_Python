{
 "cells": [
  {
   "cell_type": "code",
   "execution_count": 8,
   "metadata": {},
   "outputs": [
    {
     "name": "stdout",
     "output_type": "stream",
     "text": [
      "A area do retangulo é 40 e o perimetro é 26\n"
     ]
    }
   ],
   "source": [
    "from Geometria import Retangulo\n",
    "\n",
    "retangulo1 = Retangulo(5, 8) \n",
    "\n",
    "print (f'A area do retangulo é {retangulo1.area()} e o perimetro é {retangulo1.perimetro()}')\n"
   ]
  },
  {
   "cell_type": "code",
   "execution_count": 3,
   "metadata": {},
   "outputs": [],
   "source": [
    "class Cachorro:\n",
    "    def __init__(self, nome, idade, raca):\n",
    "        self.nome = nome\n",
    "        self.idade = idade\n",
    "        self.raca = raca\n",
    "        \n",
    "    def latir(self, modo):\n",
    "        if modo == 'bravo':\n",
    "            print(f'Au, meu nome é {self.nome}!')\n",
    "        elif modo == 'manco':\n",
    "            print(f'auuuuu!')\n",
    "        else:\n",
    "            print(f'AUUUUUUAUU!')"
   ]
  },
  {
   "cell_type": "code",
   "execution_count": 4,
   "metadata": {},
   "outputs": [],
   "source": [
    "Bidu = Cachorro('Bidu', 2,'Pastor Alemão')"
   ]
  },
  {
   "cell_type": "code",
   "execution_count": 29,
   "metadata": {},
   "outputs": [
    {
     "name": "stdout",
     "output_type": "stream",
     "text": [
      "auuuuu!\n"
     ]
    }
   ],
   "source": [
    "Bidu.latir('manco')"
   ]
  },
  {
   "cell_type": "code",
   "execution_count": 35,
   "metadata": {},
   "outputs": [
    {
     "name": "stdout",
     "output_type": "stream",
     "text": [
      "200\n"
     ]
    }
   ],
   "source": [
    "\n",
    "\n",
    "import requests\n",
    "response = requests.get('https://www.google.com')\n",
    "print(response.status_code)"
   ]
  },
  {
   "cell_type": "code",
   "execution_count": 7,
   "metadata": {},
   "outputs": [
    {
     "name": "stdout",
     "output_type": "stream",
     "text": [
      "A area do retangulo é None e o perimetro é None\n"
     ]
    }
   ],
   "source": [
    "class Retangulo:\n",
    "    def __init__(self, base, altura):\n",
    "        self.base = base\n",
    "        self.altura = altura\n",
    "    \n",
    "    def area(self):\n",
    "        return self.base * self.altura\n",
    "        \n",
    "    def perimetro(self):\n",
    "        return 2 * (self.base + self.altura)\n",
    "    \n",
    "retangulo1 = Retangulo(5, 8) \n",
    "\n",
    "print (f'A area do retangulo é {retangulo1.area()} e o perimetro é {retangulo1.perimetro()}')\n",
    "\n",
    "    "
   ]
  },
  {
   "cell_type": "code",
   "execution_count": 1,
   "metadata": {},
   "outputs": [
    {
     "name": "stdout",
     "output_type": "stream",
     "text": [
      "Depósito de R$500 realizado. Novo saldo: R$1500.00\n",
      "Saque de R$200 realizado. Novo saldo: R$1300.00\n",
      "Depósito de R$1000 realizado. Novo saldo: R$2300.00\n",
      "Saque de R$1500 realizado. Novo saldo: R$800.00\n"
     ]
    }
   ],
   "source": [
    "class Conta:\n",
    "    def __init__(self, titular, saldo=0):\n",
    "        self.titular = titular\n",
    "        self.saldo = saldo\n",
    "\n",
    "    def depositar(self, valor):\n",
    "        if valor > 0:\n",
    "            self.saldo += valor\n",
    "            print(f\"Depósito de R${valor} realizado. Novo saldo: R${self.saldo:.2f}\")\n",
    "        else:\n",
    "            print(\"Valor de depósito inválido.\")\n",
    "\n",
    "    def sacar(self, valor):\n",
    "        if valor > 0 and valor <= self.saldo:\n",
    "            self.saldo -= valor\n",
    "            print(f\"Saque de R${valor} realizado. Novo saldo: R${self.saldo:.2f}\")\n",
    "        else:\n",
    "            print(\"Saldo insuficiente ou valor de saque inválido.\")\n",
    "\n",
    "# Instanciar a classe Conta\n",
    "minha_conta = Conta(titular=\"João\", saldo=1000)\n",
    "\n",
    "# Realizar operações de depósito e saque\n",
    "minha_conta.depositar(500)\n",
    "minha_conta.sacar(200)\n",
    "minha_conta.depositar(1000)\n",
    "minha_conta.sacar(1500)"
   ]
  }
 ],
 "metadata": {
  "kernelspec": {
   "display_name": ".venv",
   "language": "python",
   "name": "python3"
  },
  "language_info": {
   "codemirror_mode": {
    "name": "ipython",
    "version": 3
   },
   "file_extension": ".py",
   "mimetype": "text/x-python",
   "name": "python",
   "nbconvert_exporter": "python",
   "pygments_lexer": "ipython3",
   "version": "3.11.4"
  },
  "orig_nbformat": 4
 },
 "nbformat": 4,
 "nbformat_minor": 2
}
