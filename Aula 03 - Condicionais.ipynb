{
 "cells": [
  {
   "cell_type": "code",
   "execution_count": null,
   "metadata": {},
   "outputs": [],
   "source": [
    "numero = int(input(\"Digite um número inteiro: \"))\n",
    "\n",
    "if numero % 2 == 0:\n",
    "    print(f\"O número {numero} é par.\")\n",
    "else:\n",
    "    print(f\"O número {numero} é ímpar.\")"
   ]
  },
  {
   "cell_type": "code",
   "execution_count": null,
   "metadata": {},
   "outputs": [],
   "source": [
    "frase = input(\"Digite uma frase: \")\n",
    "\n",
    "palavras = frase.split()\n",
    "\n",
    "for palavra in palavras:\n",
    "    numero_caracteres = len(palavra)\n",
    "    print(f\"A palavra '{palavra}' possui {numero_caracteres} caracteres.\")"
   ]
  },
  {
   "cell_type": "code",
   "execution_count": null,
   "metadata": {},
   "outputs": [],
   "source": [
    "senha = 0\n",
    "\n",
    "while senha != 1234:\n",
    "    senha = int(input(\"Digite a senha numérica de 4 dígitos: \"))\n",
    "    \n",
    "print(\"A senha está correta!\")"
   ]
  },
  {
   "cell_type": "code",
   "execution_count": null,
   "metadata": {},
   "outputs": [],
   "source": [
    "def fatorial(n):\n",
    "    if n == 0:\n",
    "        return 1\n",
    "    else:\n",
    "        return n * fatorial(n - 1)\n",
    "\n",
    "valor = int(input(\"Digite um valor para calcular o fatorial: \"))\n",
    "resultado = fatorial(valor)\n",
    "print(\"O fatorial de\", valor, \"é\", resultado)"
   ]
  },
  {
   "cell_type": "code",
   "execution_count": null,
   "metadata": {},
   "outputs": [],
   "source": [
    "tabela = {\n",
    "\"Janeiro\": 232,\n",
    "\"Fevereiro\": 321,\n",
    "\"Junho\": 589,\n",
    "\"Julho\": 547\n",
    "}\n",
    "\n",
    "for mes, quantidade in tabela.items():\n",
    "    print(f\"{mes}: {quantidade}\")"
   ]
  },
  {
   "cell_type": "code",
   "execution_count": null,
   "metadata": {},
   "outputs": [],
   "source": [
    "[i for i in range(0,10)]"
   ]
  }
 ],
 "metadata": {
  "kernelspec": {
   "display_name": ".venv",
   "language": "python",
   "name": "python3"
  },
  "language_info": {
   "codemirror_mode": {
    "name": "ipython",
    "version": 3
   },
   "file_extension": ".py",
   "mimetype": "text/x-python",
   "name": "python",
   "nbconvert_exporter": "python",
   "pygments_lexer": "ipython3",
   "version": "3.11.4"
  },
  "orig_nbformat": 4
 },
 "nbformat": 4,
 "nbformat_minor": 2
}
