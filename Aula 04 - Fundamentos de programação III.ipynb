{
 "cells": [
  {
   "cell_type": "code",
   "execution_count": 1,
   "metadata": {},
   "outputs": [],
   "source": [
    "# Exe 1\n",
    "import datetime\n",
    "from plyer import notification\n",
    "\n",
    "def alerta(nivel, base, etapa):\n",
    "    titulos = {\n",
    "        1: \"ATENÇÃO: Alerta Baixo\",\n",
    "        2: \"ATENÇÃO: Alerta Médio\",\n",
    "        3: \"ATENÇÃO: Alerta Alto\"\n",
    "    }\n",
    "\n",
    "    mensagem = f\"Falha no carregamento da base {base} na etapa {etapa}\\nData: {datetime.datetime.now()}\"\n",
    "\n",
    "    notification.notify(\n",
    "        title=titulos[nivel],\n",
    "        message=mensagem,\n",
    "        app_name=\"AlertaApp\",\n",
    "        timeout=10\n",
    "    )\n",
    "\n",
    "alerta(nivel=1, base=\"Clientes\", etapa=\"Conversão\")\n",
    "alerta(nivel=2, base=\"Clientes\", etapa=\"Validação\")\n",
    "alerta(nivel=3, base=\"Clientes\", etapa=\"Importação\")\n"
   ]
  },
  {
   "cell_type": "code",
   "execution_count": 6,
   "metadata": {},
   "outputs": [
    {
     "name": "stdout",
     "output_type": "stream",
     "text": [
      "True\n",
      "False\n",
      "True\n",
      "False\n"
     ]
    }
   ],
   "source": [
    "# Exe 1\n",
    "eh_multiplo_dez = lambda num: num % 10 == 0\n",
    "\n",
    "print(eh_multiplo_dez(20))\n",
    "print(eh_multiplo_dez(15))\n",
    "print(eh_multiplo_dez(100))\n",
    "print(eh_multiplo_dez(7))"
   ]
  },
  {
   "cell_type": "code",
   "execution_count": 1,
   "metadata": {},
   "outputs": [
    {
     "name": "stdout",
     "output_type": "stream",
     "text": [
      "O fatorial de 5 é 120\n"
     ]
    }
   ],
   "source": [
    "# Exe 2\n",
    "def calcular_fatorial(n):\n",
    "    if n < 0:\n",
    "        return \"O fatorial não é definido para números negativos\"\n",
    "    elif n == 0 or n == 1:\n",
    "        return 1\n",
    "    else:\n",
    "        fatorial = 1\n",
    "        for i in range(2, n + 1):\n",
    "            fatorial *= i\n",
    "        return fatorial\n",
    "\n",
    "numero = int(input(\"Digite um número para calcular o fatorial: \"))\n",
    "resultado = calcular_fatorial(numero)\n",
    "print(f\"O fatorial de {numero} é {resultado}\")\n"
   ]
  },
  {
   "cell_type": "code",
   "execution_count": 2,
   "metadata": {},
   "outputs": [
    {
     "name": "stdout",
     "output_type": "stream",
     "text": [
      "O dia da semana correspondente a 25/05/1988 é Wednesday\n"
     ]
    }
   ],
   "source": [
    "# Exe 3\n",
    "from datetime import datetime\n",
    "\n",
    "def obter_dia_da_semana(data):\n",
    "    try:\n",
    "        data_objeto = datetime.strptime(data, '%d/%m/%Y')\n",
    "        dias_da_semana = ['Monday', 'Tuesday', 'Wednesday', 'Thursday', 'Friday', 'Saturday', 'Sunday']\n",
    "        dia_da_semana = dias_da_semana[data_objeto.weekday()]\n",
    "        return dia_da_semana\n",
    "    except ValueError:\n",
    "        return \"Formato de data inválido. Use o formato dd/mm/aaaa\"\n",
    "\n",
    "data_input = input(\"Digite uma data (dd/mm/aaaa): \")\n",
    "dia_semana = obter_dia_da_semana(data_input)\n",
    "print(f\"O dia da semana correspondente a {data_input} é {dia_semana}\")\n"
   ]
  },
  {
   "cell_type": "code",
   "execution_count": 7,
   "metadata": {},
   "outputs": [
    {
     "name": "stdout",
     "output_type": "stream",
     "text": [
      "['João', 'Maria', 'Ana', 'Ana']\n"
     ]
    }
   ],
   "source": [
    "# Exe 4\n",
    "def primeiro_nome(nome_completo):\n",
    "    partes_nome = nome_completo.split()\n",
    "    return partes_nome[0]\n",
    "\n",
    "nomes = ['João Carlos', 'Maria Eduarda', 'Ana Rute', 'Ana Clara']\n",
    "\n",
    "primeiros_nomes = list(map(primeiro_nome, nomes))\n",
    "\n",
    "print(primeiros_nomes)"
   ]
  }
 ],
 "metadata": {
  "kernelspec": {
   "display_name": ".venv",
   "language": "python",
   "name": "python3"
  },
  "language_info": {
   "codemirror_mode": {
    "name": "ipython",
    "version": 3
   },
   "file_extension": ".py",
   "mimetype": "text/x-python",
   "name": "python",
   "nbconvert_exporter": "python",
   "pygments_lexer": "ipython3",
   "version": "3.11.4"
  },
  "orig_nbformat": 4
 },
 "nbformat": 4,
 "nbformat_minor": 2
}
